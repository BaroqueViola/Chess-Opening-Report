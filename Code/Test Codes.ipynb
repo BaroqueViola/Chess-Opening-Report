{
  "nbformat": 4,
  "nbformat_minor": 0,
  "metadata": {
    "colab": {
      "provenance": []
    },
    "kernelspec": {
      "name": "python3",
      "display_name": "Python 3"
    },
    "language_info": {
      "name": "python"
    }
  },
  "cells": [
    {
      "cell_type": "markdown",
      "source": [
        "## Getting the move list from lichess using the 8 character game code"
      ],
      "metadata": {
        "id": "BpmWYgNNO1nb"
      }
    },
    {
      "cell_type": "code",
      "source": [
        "%pip install requests\n",
        "%pip install chess"
      ],
      "metadata": {
        "colab": {
          "base_uri": "https://localhost:8080/"
        },
        "id": "xuQG9b38fo_W",
        "outputId": "fdf13042-57eb-4f50-e265-4b15c296d893"
      },
      "execution_count": null,
      "outputs": [
        {
          "output_type": "stream",
          "name": "stdout",
          "text": [
            "Requirement already satisfied: requests in /usr/local/lib/python3.10/dist-packages (2.32.3)\n",
            "Requirement already satisfied: charset-normalizer<4,>=2 in /usr/local/lib/python3.10/dist-packages (from requests) (3.4.0)\n",
            "Requirement already satisfied: idna<4,>=2.5 in /usr/local/lib/python3.10/dist-packages (from requests) (3.10)\n",
            "Requirement already satisfied: urllib3<3,>=1.21.1 in /usr/local/lib/python3.10/dist-packages (from requests) (2.2.3)\n",
            "Requirement already satisfied: certifi>=2017.4.17 in /usr/local/lib/python3.10/dist-packages (from requests) (2024.8.30)\n",
            "Collecting chess\n",
            "  Downloading chess-1.11.1.tar.gz (156 kB)\n",
            "\u001b[2K     \u001b[90m━━━━━━━━━━━━━━━━━━━━━━━━━━━━━━━━━━━━━━━━\u001b[0m \u001b[32m156.5/156.5 kB\u001b[0m \u001b[31m3.4 MB/s\u001b[0m eta \u001b[36m0:00:00\u001b[0m\n",
            "\u001b[?25h  Preparing metadata (setup.py) ... \u001b[?25l\u001b[?25hdone\n",
            "Building wheels for collected packages: chess\n",
            "  Building wheel for chess (setup.py) ... \u001b[?25l\u001b[?25hdone\n",
            "  Created wheel for chess: filename=chess-1.11.1-py3-none-any.whl size=148497 sha256=4965fef40a959b013a188e63f998a18fa662964269a67d05fcdb3761b5718621\n",
            "  Stored in directory: /root/.cache/pip/wheels/2e/2d/23/1bfc95db984ed3ecbf6764167dc7526d0ab521cf9a9852544e\n",
            "Successfully built chess\n",
            "Installing collected packages: chess\n",
            "Successfully installed chess-1.11.1\n"
          ]
        }
      ]
    },
    {
      "cell_type": "code",
      "source": [
        "import requests\n",
        "\n",
        "api_url = 'https://lichess.org/game/export/qzsgQdLe?action&tags=false&clocks=false&evals=false&division=false'\n",
        "response = requests.get(api_url, headers={\"Accept\": \"application/json\"})\n",
        "\n",
        "if response.status_code == 200:\n",
        "    data = response.json()\n",
        "    #print(data)\n",
        "\n",
        "# Prints opening name\n",
        "print(data['opening']['name'])\n",
        "\n",
        "# Prints a list of each move, good for future iteration\n",
        "move_list = data['moves'].split()\n",
        "print(move_list)\n",
        "\n",
        "# Prints each move individually\n",
        "'''\n",
        "for move in move_list:\n",
        "    print(move)\n",
        "'''"
      ],
      "metadata": {
        "colab": {
          "base_uri": "https://localhost:8080/",
          "height": 91
        },
        "id": "0ukSyHljgG2L",
        "outputId": "5644f2dc-1ae6-40c6-c09e-9da8a9e657b9",
        "collapsed": true
      },
      "execution_count": null,
      "outputs": [
        {
          "output_type": "stream",
          "name": "stdout",
          "text": [
            "Ruy Lopez: Closed, Breyer Defense, Zaitsev Hybrid\n",
            "['e4', 'e5', 'Nf3', 'Nc6', 'Bb5', 'a6', 'Ba4', 'Nf6', 'O-O', 'Be7', 'Re1', 'b5', 'Bb3', 'd6', 'c3', 'O-O', 'h3', 'Nb8', 'd4', 'Nbd7', 'Nbd2', 'Bb7', 'Bc2', 'Re8', 'Nf1', 'Bf8', 'Ng3', 'a5', 'Bg5', 'h6', 'Bd2', 'a4', 'a3', 'g6', 'Qc1', 'Kh7', 'Nh4', 'Bg7', 'Nhf5', 'gxf5', 'Nxf5', 'Ng8', 'Re3', 'Qf6', 'Rg3', 'Bh8', 'd5', 'Nf8', 'Rxg8', 'Kxg8', 'Nxh6+', 'Kh7', 'Bg5', 'Qg6', 'Qe3', 'Bg7', 'Nf5', 'Bc8', 'Nh4', 'Qh5', 'g4', 'Bxg4', 'hxg4', 'Qxg4+', 'Kf1', 'f6', 'Nf3', 'fxg5', 'Nxg5+', 'Kg8', 'Bd1', 'Qf4', 'Bh5', 'Qxe3', 'Bf7+', 'Kh8', 'fxe3', 'Re7', 'Ke2', 'Bh6', 'Rh1', 'Kg7', 'Ne6+', 'Nxe6', 'dxe6', 'Rh8', 'Rg1+', 'Kf8', 'Rd1', 'Rxf7', 'exf7', 'Kxf7', 'Rd5', 'Rb8', 'Kd3', 'Ke6', 'Ke2', 'c6', 'Rd3', 'd5', 'exd5+', 'cxd5', 'Rd1', 'Rd8', 'e4', 'd4', 'cxd4', 'Rxd4']\n"
          ]
        },
        {
          "output_type": "execute_result",
          "data": {
            "text/plain": [
              "'\\nfor move in move_list:\\n    print(move)\\n'"
            ],
            "application/vnd.google.colaboratory.intrinsic+json": {
              "type": "string"
            }
          },
          "metadata": {},
          "execution_count": 1
        }
      ]
    },
    {
      "cell_type": "code",
      "execution_count": null,
      "metadata": {
        "colab": {
          "base_uri": "https://localhost:8080/"
        },
        "id": "Abq1MOz7Og4U",
        "outputId": "fd3d4703-2089-4853-b68d-18f0eb562fe9",
        "collapsed": true
      },
      "outputs": [
        {
          "output_type": "stream",
          "name": "stdout",
          "text": [
            "1. e4 e5 2. Nf3 Nc6 3. Bb5 a6 4. Ba4 Nf6 5. O-O Be7 6. Re1 b5 7. Bb3 d6 8. c3 O-O 9. h3 Nb8 10. d4 Nbd7 11. Nbd2 Bb7 12. Bc2 Re8 13. Nf1 Bf8 14. Ng3 a5 15. Bg5 h6 16. Bd2 a4 17. a3 g6 18. Qc1 Kh7 19. Nh4 Bg7 20. Nhf5 gxf5 21. Nxf5 Ng8 22. Re3 Qf6 23. Rg3 Bh8 24. d5 Nf8 25. Rxg8 Kxg8 26. Nxh6+ Kh7 27. Bg5 Qg6 28. Qe3 Bg7 29. Nf5 Bc8 30. Nh4 Qh5 31. g4 Bxg4 32. hxg4 Qxg4+ 33. Kf1 f6 34. Nf3 fxg5 35. Nxg5+ Kg8 36. Bd1 Qf4 37. Bh5 Qxe3 38. Bf7+ Kh8 39. fxe3 Re7 40. Ke2 Bh6 41. Rh1 Kg7 42. Ne6+ Nxe6 43. dxe6 Rh8 44. Rg1+ Kf8 45. Rd1 Rxf7 46. exf7 Kxf7 47. Rd5 Rb8 48. Kd3 Ke6 49. Ke2 c6 50. Rd3 d5 51. exd5+ cxd5 52. Rd1 Rd8 53. e4 d4 54. cxd4 Rxd4\n",
            "\n",
            "\n",
            "\n"
          ]
        }
      ],
      "source": [
        "import requests\n",
        "#requests package can be used to get API\n",
        "\n",
        "#Grabs PGN (game notation) from lichess API\n",
        "#api_url = 'https://lichess.org/game/export/[game ID]?action'\n",
        "#Add ?action=[action]... to specify request, & to include multiple requests\n",
        "api_url = 'https://lichess.org/game/export/qzsgQdLe?action&tags=false&clocks=false&evals=false'\n",
        "response = requests.get(api_url)\n",
        "\n",
        "# If the responses status code is 200 (success)\n",
        "if response.status_code == 200:\n",
        "    #data = response.json()\n",
        "    print(response.text)\n",
        "    #prints the game notation"
      ]
    },
    {
      "cell_type": "markdown",
      "source": [
        "## Run through a lichess game"
      ],
      "metadata": {
        "id": "k_vH48tOesrY"
      }
    },
    {
      "cell_type": "code",
      "source": [
        "import requests\n",
        "import chess\n",
        "\n",
        "def lichess():\n",
        "    # User inputs the game code (to do: implement input game link)\n",
        "    game_code = input(\"Enter the 8 character game code: \")\n",
        "    api_url = 'https://lichess.org/game/export/' + game_code + '?action&tags=false&clocks=false&evals=false&division=false'\n",
        "    response = requests.get(api_url, headers={\"Accept\": \"application/json\"})\n",
        "\n",
        "    # If API request is successful\n",
        "    if response.status_code == 200:\n",
        "        data = response.json()\n",
        "    else:\n",
        "        print('API error')\n",
        "        return 0\n",
        "\n",
        "    # Prints opening name\n",
        "    print('Opening:', data['opening']['name'])\n",
        "\n",
        "    move_list = data['moves'].split()\n",
        "    return move_list\n",
        "\n",
        "def run_through(moves):\n",
        "    board = chess.Board()\n",
        "    for move in moves:\n",
        "        board.push_san(move)\n",
        "        print(board.fen())\n",
        "\n",
        "game = lichess()\n",
        "run_through(game)"
      ],
      "metadata": {
        "colab": {
          "base_uri": "https://localhost:8080/"
        },
        "id": "9VN8XEIUexHw",
        "outputId": "354a475e-4963-4f51-d1a1-87cc5aefa914"
      },
      "execution_count": null,
      "outputs": [
        {
          "output_type": "stream",
          "name": "stdout",
          "text": [
            "Enter the 8 character game code: qzsgQdLe\n",
            "Opening: Ruy Lopez: Closed, Breyer Defense, Zaitsev Hybrid\n",
            "rnbqkbnr/pppppppp/8/8/4P3/8/PPPP1PPP/RNBQKBNR b KQkq - 0 1\n",
            "rnbqkbnr/pppp1ppp/8/4p3/4P3/8/PPPP1PPP/RNBQKBNR w KQkq - 0 2\n",
            "rnbqkbnr/pppp1ppp/8/4p3/4P3/5N2/PPPP1PPP/RNBQKB1R b KQkq - 1 2\n",
            "r1bqkbnr/pppp1ppp/2n5/4p3/4P3/5N2/PPPP1PPP/RNBQKB1R w KQkq - 2 3\n",
            "r1bqkbnr/pppp1ppp/2n5/1B2p3/4P3/5N2/PPPP1PPP/RNBQK2R b KQkq - 3 3\n",
            "r1bqkbnr/1ppp1ppp/p1n5/1B2p3/4P3/5N2/PPPP1PPP/RNBQK2R w KQkq - 0 4\n",
            "r1bqkbnr/1ppp1ppp/p1n5/4p3/B3P3/5N2/PPPP1PPP/RNBQK2R b KQkq - 1 4\n",
            "r1bqkb1r/1ppp1ppp/p1n2n2/4p3/B3P3/5N2/PPPP1PPP/RNBQK2R w KQkq - 2 5\n",
            "r1bqkb1r/1ppp1ppp/p1n2n2/4p3/B3P3/5N2/PPPP1PPP/RNBQ1RK1 b kq - 3 5\n",
            "r1bqk2r/1pppbppp/p1n2n2/4p3/B3P3/5N2/PPPP1PPP/RNBQ1RK1 w kq - 4 6\n",
            "r1bqk2r/1pppbppp/p1n2n2/4p3/B3P3/5N2/PPPP1PPP/RNBQR1K1 b kq - 5 6\n",
            "r1bqk2r/2ppbppp/p1n2n2/1p2p3/B3P3/5N2/PPPP1PPP/RNBQR1K1 w kq - 0 7\n",
            "r1bqk2r/2ppbppp/p1n2n2/1p2p3/4P3/1B3N2/PPPP1PPP/RNBQR1K1 b kq - 1 7\n",
            "r1bqk2r/2p1bppp/p1np1n2/1p2p3/4P3/1B3N2/PPPP1PPP/RNBQR1K1 w kq - 0 8\n",
            "r1bqk2r/2p1bppp/p1np1n2/1p2p3/4P3/1BP2N2/PP1P1PPP/RNBQR1K1 b kq - 0 8\n",
            "r1bq1rk1/2p1bppp/p1np1n2/1p2p3/4P3/1BP2N2/PP1P1PPP/RNBQR1K1 w - - 1 9\n",
            "r1bq1rk1/2p1bppp/p1np1n2/1p2p3/4P3/1BP2N1P/PP1P1PP1/RNBQR1K1 b - - 0 9\n",
            "rnbq1rk1/2p1bppp/p2p1n2/1p2p3/4P3/1BP2N1P/PP1P1PP1/RNBQR1K1 w - - 1 10\n",
            "rnbq1rk1/2p1bppp/p2p1n2/1p2p3/3PP3/1BP2N1P/PP3PP1/RNBQR1K1 b - - 0 10\n",
            "r1bq1rk1/2pnbppp/p2p1n2/1p2p3/3PP3/1BP2N1P/PP3PP1/RNBQR1K1 w - - 1 11\n",
            "r1bq1rk1/2pnbppp/p2p1n2/1p2p3/3PP3/1BP2N1P/PP1N1PP1/R1BQR1K1 b - - 2 11\n",
            "r2q1rk1/1bpnbppp/p2p1n2/1p2p3/3PP3/1BP2N1P/PP1N1PP1/R1BQR1K1 w - - 3 12\n",
            "r2q1rk1/1bpnbppp/p2p1n2/1p2p3/3PP3/2P2N1P/PPBN1PP1/R1BQR1K1 b - - 4 12\n",
            "r2qr1k1/1bpnbppp/p2p1n2/1p2p3/3PP3/2P2N1P/PPBN1PP1/R1BQR1K1 w - - 5 13\n",
            "r2qr1k1/1bpnbppp/p2p1n2/1p2p3/3PP3/2P2N1P/PPB2PP1/R1BQRNK1 b - - 6 13\n",
            "r2qrbk1/1bpn1ppp/p2p1n2/1p2p3/3PP3/2P2N1P/PPB2PP1/R1BQRNK1 w - - 7 14\n",
            "r2qrbk1/1bpn1ppp/p2p1n2/1p2p3/3PP3/2P2NNP/PPB2PP1/R1BQR1K1 b - - 8 14\n",
            "r2qrbk1/1bpn1ppp/3p1n2/pp2p3/3PP3/2P2NNP/PPB2PP1/R1BQR1K1 w - - 0 15\n",
            "r2qrbk1/1bpn1ppp/3p1n2/pp2p1B1/3PP3/2P2NNP/PPB2PP1/R2QR1K1 b - - 1 15\n",
            "r2qrbk1/1bpn1pp1/3p1n1p/pp2p1B1/3PP3/2P2NNP/PPB2PP1/R2QR1K1 w - - 0 16\n",
            "r2qrbk1/1bpn1pp1/3p1n1p/pp2p3/3PP3/2P2NNP/PPBB1PP1/R2QR1K1 b - - 1 16\n",
            "r2qrbk1/1bpn1pp1/3p1n1p/1p2p3/p2PP3/2P2NNP/PPBB1PP1/R2QR1K1 w - - 0 17\n",
            "r2qrbk1/1bpn1pp1/3p1n1p/1p2p3/p2PP3/P1P2NNP/1PBB1PP1/R2QR1K1 b - - 0 17\n",
            "r2qrbk1/1bpn1p2/3p1npp/1p2p3/p2PP3/P1P2NNP/1PBB1PP1/R2QR1K1 w - - 0 18\n",
            "r2qrbk1/1bpn1p2/3p1npp/1p2p3/p2PP3/P1P2NNP/1PBB1PP1/R1Q1R1K1 b - - 1 18\n",
            "r2qrb2/1bpn1p1k/3p1npp/1p2p3/p2PP3/P1P2NNP/1PBB1PP1/R1Q1R1K1 w - - 2 19\n",
            "r2qrb2/1bpn1p1k/3p1npp/1p2p3/p2PP2N/P1P3NP/1PBB1PP1/R1Q1R1K1 b - - 3 19\n",
            "r2qr3/1bpn1pbk/3p1npp/1p2p3/p2PP2N/P1P3NP/1PBB1PP1/R1Q1R1K1 w - - 4 20\n",
            "r2qr3/1bpn1pbk/3p1npp/1p2pN2/p2PP3/P1P3NP/1PBB1PP1/R1Q1R1K1 b - - 5 20\n",
            "r2qr3/1bpn1pbk/3p1n1p/1p2pp2/p2PP3/P1P3NP/1PBB1PP1/R1Q1R1K1 w - - 0 21\n",
            "r2qr3/1bpn1pbk/3p1n1p/1p2pN2/p2PP3/P1P4P/1PBB1PP1/R1Q1R1K1 b - - 0 21\n",
            "r2qr1n1/1bpn1pbk/3p3p/1p2pN2/p2PP3/P1P4P/1PBB1PP1/R1Q1R1K1 w - - 1 22\n",
            "r2qr1n1/1bpn1pbk/3p3p/1p2pN2/p2PP3/P1P1R2P/1PBB1PP1/R1Q3K1 b - - 2 22\n",
            "r3r1n1/1bpn1pbk/3p1q1p/1p2pN2/p2PP3/P1P1R2P/1PBB1PP1/R1Q3K1 w - - 3 23\n",
            "r3r1n1/1bpn1pbk/3p1q1p/1p2pN2/p2PP3/P1P3RP/1PBB1PP1/R1Q3K1 b - - 4 23\n",
            "r3r1nb/1bpn1p1k/3p1q1p/1p2pN2/p2PP3/P1P3RP/1PBB1PP1/R1Q3K1 w - - 5 24\n",
            "r3r1nb/1bpn1p1k/3p1q1p/1p1PpN2/p3P3/P1P3RP/1PBB1PP1/R1Q3K1 b - - 0 24\n",
            "r3rnnb/1bp2p1k/3p1q1p/1p1PpN2/p3P3/P1P3RP/1PBB1PP1/R1Q3K1 w - - 1 25\n",
            "r3rnRb/1bp2p1k/3p1q1p/1p1PpN2/p3P3/P1P4P/1PBB1PP1/R1Q3K1 b - - 0 25\n",
            "r3rnkb/1bp2p2/3p1q1p/1p1PpN2/p3P3/P1P4P/1PBB1PP1/R1Q3K1 w - - 0 26\n",
            "r3rnkb/1bp2p2/3p1q1N/1p1Pp3/p3P3/P1P4P/1PBB1PP1/R1Q3K1 b - - 0 26\n",
            "r3rn1b/1bp2p1k/3p1q1N/1p1Pp3/p3P3/P1P4P/1PBB1PP1/R1Q3K1 w - - 1 27\n",
            "r3rn1b/1bp2p1k/3p1q1N/1p1Pp1B1/p3P3/P1P4P/1PB2PP1/R1Q3K1 b - - 2 27\n",
            "r3rn1b/1bp2p1k/3p2qN/1p1Pp1B1/p3P3/P1P4P/1PB2PP1/R1Q3K1 w - - 3 28\n",
            "r3rn1b/1bp2p1k/3p2qN/1p1Pp1B1/p3P3/P1P1Q2P/1PB2PP1/R5K1 b - - 4 28\n",
            "r3rn2/1bp2pbk/3p2qN/1p1Pp1B1/p3P3/P1P1Q2P/1PB2PP1/R5K1 w - - 5 29\n",
            "r3rn2/1bp2pbk/3p2q1/1p1PpNB1/p3P3/P1P1Q2P/1PB2PP1/R5K1 b - - 6 29\n",
            "r1b1rn2/2p2pbk/3p2q1/1p1PpNB1/p3P3/P1P1Q2P/1PB2PP1/R5K1 w - - 7 30\n",
            "r1b1rn2/2p2pbk/3p2q1/1p1Pp1B1/p3P2N/P1P1Q2P/1PB2PP1/R5K1 b - - 8 30\n",
            "r1b1rn2/2p2pbk/3p4/1p1Pp1Bq/p3P2N/P1P1Q2P/1PB2PP1/R5K1 w - - 9 31\n",
            "r1b1rn2/2p2pbk/3p4/1p1Pp1Bq/p3P1PN/P1P1Q2P/1PB2P2/R5K1 b - - 0 31\n",
            "r3rn2/2p2pbk/3p4/1p1Pp1Bq/p3P1bN/P1P1Q2P/1PB2P2/R5K1 w - - 0 32\n",
            "r3rn2/2p2pbk/3p4/1p1Pp1Bq/p3P1PN/P1P1Q3/1PB2P2/R5K1 b - - 0 32\n",
            "r3rn2/2p2pbk/3p4/1p1Pp1B1/p3P1qN/P1P1Q3/1PB2P2/R5K1 w - - 0 33\n",
            "r3rn2/2p2pbk/3p4/1p1Pp1B1/p3P1qN/P1P1Q3/1PB2P2/R4K2 b - - 1 33\n",
            "r3rn2/2p3bk/3p1p2/1p1Pp1B1/p3P1qN/P1P1Q3/1PB2P2/R4K2 w - - 0 34\n",
            "r3rn2/2p3bk/3p1p2/1p1Pp1B1/p3P1q1/P1P1QN2/1PB2P2/R4K2 b - - 1 34\n",
            "r3rn2/2p3bk/3p4/1p1Pp1p1/p3P1q1/P1P1QN2/1PB2P2/R4K2 w - - 0 35\n",
            "r3rn2/2p3bk/3p4/1p1Pp1N1/p3P1q1/P1P1Q3/1PB2P2/R4K2 b - - 0 35\n",
            "r3rnk1/2p3b1/3p4/1p1Pp1N1/p3P1q1/P1P1Q3/1PB2P2/R4K2 w - - 1 36\n",
            "r3rnk1/2p3b1/3p4/1p1Pp1N1/p3P1q1/P1P1Q3/1P3P2/R2B1K2 b - - 2 36\n",
            "r3rnk1/2p3b1/3p4/1p1Pp1N1/p3Pq2/P1P1Q3/1P3P2/R2B1K2 w - - 3 37\n",
            "r3rnk1/2p3b1/3p4/1p1Pp1NB/p3Pq2/P1P1Q3/1P3P2/R4K2 b - - 4 37\n",
            "r3rnk1/2p3b1/3p4/1p1Pp1NB/p3P3/P1P1q3/1P3P2/R4K2 w - - 0 38\n",
            "r3rnk1/2p2Bb1/3p4/1p1Pp1N1/p3P3/P1P1q3/1P3P2/R4K2 b - - 1 38\n",
            "r3rn1k/2p2Bb1/3p4/1p1Pp1N1/p3P3/P1P1q3/1P3P2/R4K2 w - - 2 39\n",
            "r3rn1k/2p2Bb1/3p4/1p1Pp1N1/p3P3/P1P1P3/1P6/R4K2 b - - 0 39\n",
            "r4n1k/2p1rBb1/3p4/1p1Pp1N1/p3P3/P1P1P3/1P6/R4K2 w - - 1 40\n",
            "r4n1k/2p1rBb1/3p4/1p1Pp1N1/p3P3/P1P1P3/1P2K3/R7 b - - 2 40\n",
            "r4n1k/2p1rB2/3p3b/1p1Pp1N1/p3P3/P1P1P3/1P2K3/R7 w - - 3 41\n",
            "r4n1k/2p1rB2/3p3b/1p1Pp1N1/p3P3/P1P1P3/1P2K3/7R b - - 4 41\n",
            "r4n2/2p1rBk1/3p3b/1p1Pp1N1/p3P3/P1P1P3/1P2K3/7R w - - 5 42\n",
            "r4n2/2p1rBk1/3pN2b/1p1Pp3/p3P3/P1P1P3/1P2K3/7R b - - 6 42\n",
            "r7/2p1rBk1/3pn2b/1p1Pp3/p3P3/P1P1P3/1P2K3/7R w - - 0 43\n",
            "r7/2p1rBk1/3pP2b/1p2p3/p3P3/P1P1P3/1P2K3/7R b - - 0 43\n",
            "7r/2p1rBk1/3pP2b/1p2p3/p3P3/P1P1P3/1P2K3/7R w - - 1 44\n",
            "7r/2p1rBk1/3pP2b/1p2p3/p3P3/P1P1P3/1P2K3/6R1 b - - 2 44\n",
            "5k1r/2p1rB2/3pP2b/1p2p3/p3P3/P1P1P3/1P2K3/6R1 w - - 3 45\n",
            "5k1r/2p1rB2/3pP2b/1p2p3/p3P3/P1P1P3/1P2K3/3R4 b - - 4 45\n",
            "5k1r/2p2r2/3pP2b/1p2p3/p3P3/P1P1P3/1P2K3/3R4 w - - 0 46\n",
            "5k1r/2p2P2/3p3b/1p2p3/p3P3/P1P1P3/1P2K3/3R4 b - - 0 46\n",
            "7r/2p2k2/3p3b/1p2p3/p3P3/P1P1P3/1P2K3/3R4 w - - 0 47\n",
            "7r/2p2k2/3p3b/1p1Rp3/p3P3/P1P1P3/1P2K3/8 b - - 1 47\n",
            "1r6/2p2k2/3p3b/1p1Rp3/p3P3/P1P1P3/1P2K3/8 w - - 2 48\n",
            "1r6/2p2k2/3p3b/1p1Rp3/p3P3/P1PKP3/1P6/8 b - - 3 48\n",
            "1r6/2p5/3pk2b/1p1Rp3/p3P3/P1PKP3/1P6/8 w - - 4 49\n",
            "1r6/2p5/3pk2b/1p1Rp3/p3P3/P1P1P3/1P2K3/8 b - - 5 49\n",
            "1r6/8/2ppk2b/1p1Rp3/p3P3/P1P1P3/1P2K3/8 w - - 0 50\n",
            "1r6/8/2ppk2b/1p2p3/p3P3/P1PRP3/1P2K3/8 b - - 1 50\n",
            "1r6/8/2p1k2b/1p1pp3/p3P3/P1PRP3/1P2K3/8 w - - 0 51\n",
            "1r6/8/2p1k2b/1p1Pp3/p7/P1PRP3/1P2K3/8 b - - 0 51\n",
            "1r6/8/4k2b/1p1pp3/p7/P1PRP3/1P2K3/8 w - - 0 52\n",
            "1r6/8/4k2b/1p1pp3/p7/P1P1P3/1P2K3/3R4 b - - 1 52\n",
            "3r4/8/4k2b/1p1pp3/p7/P1P1P3/1P2K3/3R4 w - - 2 53\n",
            "3r4/8/4k2b/1p1pp3/p3P3/P1P5/1P2K3/3R4 b - - 0 53\n",
            "3r4/8/4k2b/1p2p3/p2pP3/P1P5/1P2K3/3R4 w - - 0 54\n",
            "3r4/8/4k2b/1p2p3/p2PP3/P7/1P2K3/3R4 b - - 0 54\n",
            "8/8/4k2b/1p2p3/p2rP3/P7/1P2K3/3R4 w - - 0 55\n"
          ]
        }
      ]
    },
    {
      "cell_type": "markdown",
      "source": [
        "## Convert centipawn to expected score"
      ],
      "metadata": {
        "id": "-TGFZB2YmXX9"
      }
    },
    {
      "cell_type": "code",
      "source": [
        "import math\n",
        "\n",
        "# Lichess formula\n",
        "def score(centipawn):\n",
        "    return round((50 + 50 * (2 / (1 + math.exp(-0.00368208 * centipawn)) - 1)) / 100, 4)\n",
        "\n",
        "print(score(50))"
      ],
      "metadata": {
        "colab": {
          "base_uri": "https://localhost:8080/"
        },
        "id": "-woLQmOjmc6I",
        "outputId": "84212e9f-ffb5-4c50-b9ef-7afe28bf0997"
      },
      "execution_count": null,
      "outputs": [
        {
          "output_type": "stream",
          "name": "stdout",
          "text": [
            "0.5459\n"
          ]
        }
      ]
    },
    {
      "cell_type": "markdown",
      "source": [
        "## Getting the evaluation from chessdb using FEN"
      ],
      "metadata": {
        "id": "RfJAdZejW3JM"
      }
    },
    {
      "cell_type": "code",
      "source": [
        "import requests\n",
        "\n",
        "api_url = 'http://www.chessdb.cn/cdb.php?action=queryall&board=r1bqk2r/1pppbppp/p1n2n2/4p3/B3P3/5N2/PPPP1PPP/RNBQR1K1 b kq - 5 6&json=true'\n",
        "response = requests.get(api_url)\n",
        "\n",
        "if response.status_code == 200:\n",
        "    data = response.json()\n",
        "else:\n",
        "    print('API error')\n",
        "\n",
        "if 'moves' in data:\n",
        "        moves = data['moves']\n",
        "        print('Suggested Moves and Evaluations:')\n",
        "        for move in moves:\n",
        "            print(f\"Move: {move.get('san')}, Centipawn evaluation: {move.get('score')}, Expected score: {round(float(move.get('winrate'))*0.01,4)}\")"
      ],
      "metadata": {
        "colab": {
          "base_uri": "https://localhost:8080/"
        },
        "id": "wmpmOhpOW01i",
        "outputId": "3b74f044-3bb7-4c87-a999-d294e354122b"
      },
      "execution_count": null,
      "outputs": [
        {
          "output_type": "stream",
          "name": "stdout",
          "text": [
            "Suggested Moves and Evaluations:\n",
            "Move: b5, Centipawn evaluation: 0, Expected score: 0.5\n",
            "Move: d6, Centipawn evaluation: -17, Expected score: 0.4871\n",
            "Move: Bc5, Centipawn evaluation: -93, Expected score: 0.43\n",
            "Move: Ng4, Centipawn evaluation: -101, Expected score: 0.4241\n",
            "Move: Nd4, Centipawn evaluation: -102, Expected score: 0.4233\n",
            "Move: a5, Centipawn evaluation: -120, Expected score: 0.4101\n",
            "Move: O-O, Centipawn evaluation: -127, Expected score: 0.405\n",
            "Move: h6, Centipawn evaluation: -135, Expected score: 0.3991\n",
            "Move: h5, Centipawn evaluation: -147, Expected score: 0.3904\n",
            "Move: Rb8, Centipawn evaluation: -152, Expected score: 0.3868\n",
            "Move: Bb4, Centipawn evaluation: -155, Expected score: 0.3847\n",
            "Move: Bd6, Centipawn evaluation: -172, Expected score: 0.3726\n",
            "Move: Na5, Centipawn evaluation: -175, Expected score: 0.3704\n",
            "Move: Ra7, Centipawn evaluation: -181, Expected score: 0.3662\n",
            "Move: b6, Centipawn evaluation: -190, Expected score: 0.3599\n",
            "Move: g6, Centipawn evaluation: -195, Expected score: 0.3564\n",
            "Move: Ng8, Centipawn evaluation: -209, Expected score: 0.3468\n",
            "Move: Nb4, Centipawn evaluation: -213, Expected score: 0.344\n",
            "Move: Nb8, Centipawn evaluation: -216, Expected score: 0.342\n",
            "Move: Nh5, Centipawn evaluation: -235, Expected score: 0.3291\n",
            "Move: Rf8, Centipawn evaluation: -236, Expected score: 0.3285\n",
            "Move: Kf8, Centipawn evaluation: -237, Expected score: 0.3278\n",
            "Move: g5, Centipawn evaluation: -255, Expected score: 0.3159\n",
            "Move: Bf8, Centipawn evaluation: -260, Expected score: 0.3126\n",
            "Move: Na7, Centipawn evaluation: -260, Expected score: 0.3126\n",
            "Move: Rg8, Centipawn evaluation: -262, Expected score: 0.3113\n",
            "Move: d5, Centipawn evaluation: -276, Expected score: 0.3023\n",
            "Move: Nxe4, Centipawn evaluation: -355, Expected score: 0.2543\n",
            "Move: Ba3, Centipawn evaluation: -520, Expected score: 0.1714\n"
          ]
        }
      ]
    },
    {
      "cell_type": "code",
      "source": [
        "#api_url = 'http://www.chessdb.cn/cdb.php?action=[ACTION]{&[OPTION1]=[VALUE1]...&[OPTIONn]=[VALUEn]}'\n",
        "#api_url = 'http://www.chessdb.cn/cdb.php?action=queryscore&board=rnbqkbnr/pppppppp/8/8/8/8/PPPPPPPP/RNBQKBNR w KQkq - 0 1&json=true'\n",
        "api_url = 'http://www.chessdb.cn/cdb.php?action=queryall&board=rnbqkbnr/pppppppp/8/8/8/8/PPPPPPPP/RNBQKBNR w KQkq - 0 1&json=true'\n",
        "#api_url = 'http://www.chessdb.cn/cdb.php?action=querybest&board=rnbqkbnr/pppppppp/8/8/8/8/PPPPPPPP/RNBQKBNR w KQkq - 0 1&json=true'\n",
        "response = requests.get(api_url)\n",
        "\n",
        "# If the responses status code is 200 (success)\n",
        "if response.status_code == 200:\n",
        "    data = response.json()\n",
        "    print(data['moves'])\n",
        "else:\n",
        "    print('API error')"
      ],
      "metadata": {
        "colab": {
          "base_uri": "https://localhost:8080/"
        },
        "id": "bB7FRp3ZOkob",
        "outputId": "06706d4c-bc9e-416c-d7c4-1a1ce50e632f",
        "collapsed": true
      },
      "execution_count": null,
      "outputs": [
        {
          "output_type": "stream",
          "name": "stdout",
          "text": [
            "[{'uci': 'd2d4', 'san': 'd4', 'score': 1, 'rank': 2, 'note': '! (20-04)', 'winrate': '50.08'}, {'uci': 'e2e4', 'san': 'e4', 'score': 1, 'rank': 2, 'note': '! (20-04)', 'winrate': '50.08'}, {'uci': 'g1f3', 'san': 'Nf3', 'score': 1, 'rank': 2, 'note': '! (20-05)', 'winrate': '50.08'}, {'uci': 'c2c4', 'san': 'c4', 'score': 1, 'rank': 2, 'note': '! (20-06)', 'winrate': '50.08'}, {'uci': 'a2a3', 'san': 'a3', 'score': 0, 'rank': 2, 'note': '! (20-09)', 'winrate': '50.00'}, {'uci': 'g2g3', 'san': 'g3', 'score': 0, 'rank': 2, 'note': '! (20-09)', 'winrate': '50.00'}, {'uci': 'h2h3', 'san': 'h3', 'score': 0, 'rank': 2, 'note': '! (20-11)', 'winrate': '50.00'}, {'uci': 'e2e3', 'san': 'e3', 'score': 0, 'rank': 2, 'note': '! (20-11)', 'winrate': '50.00'}, {'uci': 'c2c3', 'san': 'c3', 'score': 0, 'rank': 2, 'note': '! (20-11)', 'winrate': '50.00'}, {'uci': 'b2b3', 'san': 'b3', 'score': 0, 'rank': 2, 'note': '! (20-13)', 'winrate': '50.00'}, {'uci': 'd2d3', 'san': 'd3', 'score': 0, 'rank': 2, 'note': '! (20-13)', 'winrate': '50.00'}, {'uci': 'b1c3', 'san': 'Nc3', 'score': -1, 'rank': 2, 'note': '! (20-07)', 'winrate': '49.92'}, {'uci': 'h2h4', 'san': 'h4', 'score': -1, 'rank': 2, 'note': '! (20-11)', 'winrate': '49.92'}, {'uci': 'b2b4', 'san': 'b4', 'score': -1, 'rank': 2, 'note': '! (20-12)', 'winrate': '49.92'}, {'uci': 'a2a4', 'san': 'a4', 'score': -1, 'rank': 2, 'note': '! (20-12)', 'winrate': '49.92'}, {'uci': 'f2f4', 'san': 'f4', 'score': -1, 'rank': 2, 'note': '! (20-15)', 'winrate': '49.92'}, {'uci': 'b1a3', 'san': 'Na3', 'score': -7, 'rank': 0, 'note': '? (20-09)', 'winrate': '49.47'}, {'uci': 'g1h3', 'san': 'Nh3', 'score': -7, 'rank': 0, 'note': '? (20-11)', 'winrate': '49.47'}, {'uci': 'f2f3', 'san': 'f3', 'score': -51, 'rank': 0, 'note': '? (20-01)', 'winrate': '46.14'}, {'uci': 'g2g4', 'san': 'g4', 'score': -177, 'rank': 0, 'note': '? (20-01)', 'winrate': '36.90'}]\n"
          ]
        }
      ]
    }
  ]
}
