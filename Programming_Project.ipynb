{
  "nbformat": 4,
  "nbformat_minor": 0,
  "metadata": {
    "colab": {
      "provenance": []
    },
    "kernelspec": {
      "name": "python3",
      "display_name": "Python 3"
    },
    "language_info": {
      "name": "python"
    }
  },
  "cells": [
    {
      "cell_type": "markdown",
      "source": [
        "## **Getting the move list from lichess using the 8 character game code**"
      ],
      "metadata": {
        "id": "BpmWYgNNO1nb"
      }
    },
    {
      "cell_type": "code",
      "execution_count": null,
      "metadata": {
        "colab": {
          "base_uri": "https://localhost:8080/"
        },
        "id": "Abq1MOz7Og4U",
        "outputId": "7e2bc213-fb33-4db4-d196-2311f1d72e22"
      },
      "outputs": [
        {
          "output_type": "stream",
          "name": "stdout",
          "text": [
            "1. e4 e5 2. Nf3 Nc6 3. Bb5 a6 4. Ba4 Nf6 5. O-O Be7 6. Re1 b5 7. Bb3 d6 8. c3 O-O 9. h3 Nb8 10. d4 Nbd7 11. Nbd2 Bb7 12. Bc2 Re8 13. Nf1 Bf8 14. Ng3 a5 15. Bg5 h6 16. Bd2 a4 17. a3 g6 18. Qc1 Kh7 19. Nh4 Bg7 20. Nhf5 gxf5 21. Nxf5 Ng8 22. Re3 Qf6 23. Rg3 Bh8 24. d5 Nf8 25. Rxg8 Kxg8 26. Nxh6+ Kh7 27. Bg5 Qg6 28. Qe3 Bg7 29. Nf5 Bc8 30. Nh4 Qh5 31. g4 Bxg4 32. hxg4 Qxg4+ 33. Kf1 f6 34. Nf3 fxg5 35. Nxg5+ Kg8 36. Bd1 Qf4 37. Bh5 Qxe3 38. Bf7+ Kh8 39. fxe3 Re7 40. Ke2 Bh6 41. Rh1 Kg7 42. Ne6+ Nxe6 43. dxe6 Rh8 44. Rg1+ Kf8 45. Rd1 Rxf7 46. exf7 Kxf7 47. Rd5 Rb8 48. Kd3 Ke6 49. Ke2 c6 50. Rd3 d5 51. exd5+ cxd5 52. Rd1 Rd8 53. e4 d4 54. cxd4 Rxd4\n",
            "\n",
            "\n",
            "\n"
          ]
        }
      ],
      "source": [
        "import requests\n",
        "#requests package can be used to get API\n",
        "\n",
        "#Grabs PGN (game notation) from lichess API\n",
        "#api_url = 'https://lichess.org/game/export/[game ID]?action'\n",
        "#Add ?action=[action]... to specify request, & to include multiple requests\n",
        "api_url = 'https://lichess.org/game/export/qzsgQdLe?action&tags=false&clocks=false&evals=false'\n",
        "response = requests.get(api_url)\n",
        "\n",
        "# If the responses status code is 200 (success)\n",
        "if response.status_code == 200:\n",
        "    #data = response.json()\n",
        "    print(response.text)\n",
        "    #prints the game notation"
      ]
    },
    {
      "cell_type": "code",
      "source": [
        "import requests\n",
        "\n",
        "api_url = 'https://lichess.org/game/export/qzsgQdLe?action&tags=false&clocks=false&evals=false'\n",
        "response = requests.get(api_url, headers={\"Accept\": \"application/json\"})\n",
        "\n",
        "if response.status_code == 200:\n",
        "    data = response.json()\n",
        "    print(data['moves'])\n",
        "\n",
        "move_list = data['moves'].split()\n",
        "for move in move_list:\n",
        "    print(move)"
      ],
      "metadata": {
        "colab": {
          "base_uri": "https://localhost:8080/"
        },
        "id": "0ukSyHljgG2L",
        "outputId": "f40d4624-f007-45c4-ffcf-805e7c8fe82f"
      },
      "execution_count": null,
      "outputs": [
        {
          "output_type": "stream",
          "name": "stdout",
          "text": [
            "e4 e5 Nf3 Nc6 Bb5 a6 Ba4 Nf6 O-O Be7 Re1 b5 Bb3 d6 c3 O-O h3 Nb8 d4 Nbd7 Nbd2 Bb7 Bc2 Re8 Nf1 Bf8 Ng3 a5 Bg5 h6 Bd2 a4 a3 g6 Qc1 Kh7 Nh4 Bg7 Nhf5 gxf5 Nxf5 Ng8 Re3 Qf6 Rg3 Bh8 d5 Nf8 Rxg8 Kxg8 Nxh6+ Kh7 Bg5 Qg6 Qe3 Bg7 Nf5 Bc8 Nh4 Qh5 g4 Bxg4 hxg4 Qxg4+ Kf1 f6 Nf3 fxg5 Nxg5+ Kg8 Bd1 Qf4 Bh5 Qxe3 Bf7+ Kh8 fxe3 Re7 Ke2 Bh6 Rh1 Kg7 Ne6+ Nxe6 dxe6 Rh8 Rg1+ Kf8 Rd1 Rxf7 exf7 Kxf7 Rd5 Rb8 Kd3 Ke6 Ke2 c6 Rd3 d5 exd5+ cxd5 Rd1 Rd8 e4 d4 cxd4 Rxd4\n",
            "e4\n",
            "e5\n",
            "Nf3\n",
            "Nc6\n",
            "Bb5\n",
            "a6\n",
            "Ba4\n",
            "Nf6\n",
            "O-O\n",
            "Be7\n",
            "Re1\n",
            "b5\n",
            "Bb3\n",
            "d6\n",
            "c3\n",
            "O-O\n",
            "h3\n",
            "Nb8\n",
            "d4\n",
            "Nbd7\n",
            "Nbd2\n",
            "Bb7\n",
            "Bc2\n",
            "Re8\n",
            "Nf1\n",
            "Bf8\n",
            "Ng3\n",
            "a5\n",
            "Bg5\n",
            "h6\n",
            "Bd2\n",
            "a4\n",
            "a3\n",
            "g6\n",
            "Qc1\n",
            "Kh7\n",
            "Nh4\n",
            "Bg7\n",
            "Nhf5\n",
            "gxf5\n",
            "Nxf5\n",
            "Ng8\n",
            "Re3\n",
            "Qf6\n",
            "Rg3\n",
            "Bh8\n",
            "d5\n",
            "Nf8\n",
            "Rxg8\n",
            "Kxg8\n",
            "Nxh6+\n",
            "Kh7\n",
            "Bg5\n",
            "Qg6\n",
            "Qe3\n",
            "Bg7\n",
            "Nf5\n",
            "Bc8\n",
            "Nh4\n",
            "Qh5\n",
            "g4\n",
            "Bxg4\n",
            "hxg4\n",
            "Qxg4+\n",
            "Kf1\n",
            "f6\n",
            "Nf3\n",
            "fxg5\n",
            "Nxg5+\n",
            "Kg8\n",
            "Bd1\n",
            "Qf4\n",
            "Bh5\n",
            "Qxe3\n",
            "Bf7+\n",
            "Kh8\n",
            "fxe3\n",
            "Re7\n",
            "Ke2\n",
            "Bh6\n",
            "Rh1\n",
            "Kg7\n",
            "Ne6+\n",
            "Nxe6\n",
            "dxe6\n",
            "Rh8\n",
            "Rg1+\n",
            "Kf8\n",
            "Rd1\n",
            "Rxf7\n",
            "exf7\n",
            "Kxf7\n",
            "Rd5\n",
            "Rb8\n",
            "Kd3\n",
            "Ke6\n",
            "Ke2\n",
            "c6\n",
            "Rd3\n",
            "d5\n",
            "exd5+\n",
            "cxd5\n",
            "Rd1\n",
            "Rd8\n",
            "e4\n",
            "d4\n",
            "cxd4\n",
            "Rxd4\n"
          ]
        }
      ]
    },
    {
      "cell_type": "markdown",
      "source": [
        "### Print each move individually"
      ],
      "metadata": {
        "id": "RfJAdZejW3JM"
      }
    },
    {
      "cell_type": "code",
      "source": [
        "import requests\n",
        "#Grabs evaluation of a given FEN (position) from chessdb API\n",
        "\n",
        "#api_url = 'http://www.chessdb.cn/cdb.php?action=[ACTION]{&[OPTION1]=[VALUE1]...&[OPTIONn]=[VALUEn]}'\n",
        "#api_url = 'http://www.chessdb.cn/cdb.php?action=queryscore&board=rnbqkbnr/pppppppp/8/8/8/8/PPPPPPPP/RNBQKBNR w KQkq - 0 1&json=true'\n",
        "api_url = 'http://www.chessdb.cn/cdb.php?action=queryall&board=rnbqkbnr/pppppppp/8/8/8/8/PPPPPPPP/RNBQKBNR w KQkq - 0 1&json=true'\n",
        "#api_url = 'http://www.chessdb.cn/cdb.php?action=querybest&board=rnbqkbnr/pppppppp/8/8/8/8/PPPPPPPP/RNBQKBNR w KQkq - 0 1&json=true'\n",
        "response = requests.get(api_url)\n",
        "\n",
        "If the responses status code is 200 (success)\n",
        "if response.status_code == 200:\n",
        "    data = response.json()\n",
        "    print(data)\n",
        "    #print(response.text)\n",
        "    #prints the eval hopefully\n",
        "else:\n",
        "    print('api error')\n",
        "\n",
        "\n",
        "if \"moves\" in data:\n",
        "        moves = data[\"moves\"]\n",
        "\n",
        "\n",
        "        print(\"Suggested Moves and Evaluations:\")\n",
        "        for move in moves:\n",
        "\n",
        "            print(f\"Move: {move.get('uci')}, Evaluation: {move.get('score')}\")"
      ],
      "metadata": {
        "colab": {
          "base_uri": "https://localhost:8080/",
          "height": 106
        },
        "id": "wmpmOhpOW01i",
        "outputId": "d02ecfae-4be2-46e0-d3c5-a9d7c57f8d10"
      },
      "execution_count": null,
      "outputs": [
        {
          "output_type": "error",
          "ename": "SyntaxError",
          "evalue": "invalid syntax (<ipython-input-24-4f8c8adf65b6>, line 10)",
          "traceback": [
            "\u001b[0;36m  File \u001b[0;32m\"<ipython-input-24-4f8c8adf65b6>\"\u001b[0;36m, line \u001b[0;32m10\u001b[0m\n\u001b[0;31m    If the responses status code is 200 (success)\u001b[0m\n\u001b[0m       ^\u001b[0m\n\u001b[0;31mSyntaxError\u001b[0m\u001b[0;31m:\u001b[0m invalid syntax\n"
          ]
        }
      ]
    },
    {
      "cell_type": "markdown",
      "source": [
        "## **Getting the evaluation from chessdb using FEN**"
      ],
      "metadata": {
        "id": "gn2IfzSmO3Sd"
      }
    },
    {
      "cell_type": "code",
      "source": [
        "#Grabs evaluation of a given FEN (position) from chessdb API\n",
        "\n",
        "#api_url = 'http://www.chessdb.cn/cdb.php?action=[ACTION]{&[OPTION1]=[VALUE1]...&[OPTIONn]=[VALUEn]}'\n",
        "#api_url = 'http://www.chessdb.cn/cdb.php?action=queryscore&board=rnbqkbnr/pppppppp/8/8/8/8/PPPPPPPP/RNBQKBNR w KQkq - 0 1&json=true'\n",
        "api_url = 'http://www.chessdb.cn/cdb.php?action=queryall&board=rnbqkbnr/pppppppp/8/8/8/8/PPPPPPPP/RNBQKBNR w KQkq - 0 1&json=true'\n",
        "#api_url = 'http://www.chessdb.cn/cdb.php?action=querybest&board=rnbqkbnr/pppppppp/8/8/8/8/PPPPPPPP/RNBQKBNR w KQkq - 0 1&json=true'\n",
        "response = requests.get(api_url)\n",
        "\n",
        "# If the responses status code is 200 (success)\n",
        "if response.status_code == 200:\n",
        "    data = response.json()\n",
        "    print(data)\n",
        "    #print(response.text)\n",
        "    #prints the eval hopefully\n",
        "else:\n",
        "    print('api error')"
      ],
      "metadata": {
        "colab": {
          "base_uri": "https://localhost:8080/"
        },
        "id": "bB7FRp3ZOkob",
        "outputId": "b7a05fff-2fe2-4c4b-e06e-2393495787fb"
      },
      "execution_count": null,
      "outputs": [
        {
          "output_type": "stream",
          "name": "stdout",
          "text": [
            "{'status': 'ok', 'moves': [{'uci': 'e2e4', 'san': 'e4', 'score': 1, 'rank': 2, 'note': '! (20-04)', 'winrate': '50.08'}, {'uci': 'd2d4', 'san': 'd4', 'score': 1, 'rank': 2, 'note': '! (20-04)', 'winrate': '50.08'}, {'uci': 'g1f3', 'san': 'Nf3', 'score': 1, 'rank': 2, 'note': '! (20-05)', 'winrate': '50.08'}, {'uci': 'c2c4', 'san': 'c4', 'score': 1, 'rank': 2, 'note': '! (20-06)', 'winrate': '50.08'}, {'uci': 'e2e3', 'san': 'e3', 'score': 1, 'rank': 2, 'note': '! (20-11)', 'winrate': '50.08'}, {'uci': 'b1c3', 'san': 'Nc3', 'score': 0, 'rank': 2, 'note': '! (20-07)', 'winrate': '50.00'}, {'uci': 'a2a3', 'san': 'a3', 'score': 0, 'rank': 2, 'note': '! (20-09)', 'winrate': '50.00'}, {'uci': 'g2g3', 'san': 'g3', 'score': 0, 'rank': 2, 'note': '! (20-09)', 'winrate': '50.00'}, {'uci': 'c2c3', 'san': 'c3', 'score': 0, 'rank': 2, 'note': '! (20-11)', 'winrate': '50.00'}, {'uci': 'h2h3', 'san': 'h3', 'score': 0, 'rank': 2, 'note': '! (20-11)', 'winrate': '50.00'}, {'uci': 'b2b3', 'san': 'b3', 'score': 0, 'rank': 2, 'note': '! (20-13)', 'winrate': '50.00'}, {'uci': 'd2d3', 'san': 'd3', 'score': 0, 'rank': 2, 'note': '! (20-13)', 'winrate': '50.00'}, {'uci': 'a2a4', 'san': 'a4', 'score': -1, 'rank': 2, 'note': '! (20-12)', 'winrate': '49.92'}, {'uci': 'b2b4', 'san': 'b4', 'score': -1, 'rank': 2, 'note': '! (20-12)', 'winrate': '49.92'}, {'uci': 'f2f4', 'san': 'f4', 'score': -1, 'rank': 2, 'note': '! (20-15)', 'winrate': '49.92'}, {'uci': 'h2h4', 'san': 'h4', 'score': -2, 'rank': 1, 'note': '* (20-11)', 'winrate': '49.85'}, {'uci': 'b1a3', 'san': 'Na3', 'score': -8, 'rank': 0, 'note': '? (20-09)', 'winrate': '49.39'}, {'uci': 'g1h3', 'san': 'Nh3', 'score': -9, 'rank': 0, 'note': '? (20-05)', 'winrate': '49.32'}, {'uci': 'f2f3', 'san': 'f3', 'score': -58, 'rank': 0, 'note': '? (20-01)', 'winrate': '45.62'}, {'uci': 'g2g4', 'san': 'g4', 'score': -184, 'rank': 0, 'note': '? (20-01)', 'winrate': '36.41'}], 'ply': 0}\n"
          ]
        }
      ]
    }
  ]
}