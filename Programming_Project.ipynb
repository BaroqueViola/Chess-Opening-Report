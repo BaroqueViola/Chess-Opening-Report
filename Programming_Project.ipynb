{
  "nbformat": 4,
  "nbformat_minor": 0,
  "metadata": {
    "colab": {
      "provenance": []
    },
    "kernelspec": {
      "name": "python3",
      "display_name": "Python 3"
    },
    "language_info": {
      "name": "python"
    }
  },
  "cells": [
    {
      "cell_type": "markdown",
      "source": [
        "## **Getting the move list from lichess using the 8 character game code**"
      ],
      "metadata": {
        "id": "BpmWYgNNO1nb"
      }
    },
    {
      "cell_type": "code",
      "source": [
        "import requests\n",
        "\n",
        "api_url = 'https://lichess.org/game/export/qzsgQdLe?action&tags=false&clocks=false&evals=false&division=false'\n",
        "response = requests.get(api_url, headers={\"Accept\": \"application/json\"})\n",
        "\n",
        "if response.status_code == 200:\n",
        "    data = response.json()\n",
        "    #print(data)\n",
        "\n",
        "# Prints opening name\n",
        "print(data['opening']['name'])\n",
        "\n",
        "# Prints a list of each move, good for future iteration\n",
        "move_list = data['moves'].split()\n",
        "print(move_list)\n",
        "\n",
        "# Prints each move individually\n",
        "'''\n",
        "for move in move_list:\n",
        "    print(move)\n",
        "'''"
      ],
      "metadata": {
        "colab": {
          "base_uri": "https://localhost:8080/",
          "height": 90
        },
        "id": "0ukSyHljgG2L",
        "outputId": "6ced4c25-ad17-40c9-c1ea-2418c277e72d",
        "collapsed": true
      },
      "execution_count": 27,
      "outputs": [
        {
          "output_type": "stream",
          "name": "stdout",
          "text": [
            "Ruy Lopez: Closed, Breyer Defense, Zaitsev Hybrid\n",
            "['e4', 'e5', 'Nf3', 'Nc6', 'Bb5', 'a6', 'Ba4', 'Nf6', 'O-O', 'Be7', 'Re1', 'b5', 'Bb3', 'd6', 'c3', 'O-O', 'h3', 'Nb8', 'd4', 'Nbd7', 'Nbd2', 'Bb7', 'Bc2', 'Re8', 'Nf1', 'Bf8', 'Ng3', 'a5', 'Bg5', 'h6', 'Bd2', 'a4', 'a3', 'g6', 'Qc1', 'Kh7', 'Nh4', 'Bg7', 'Nhf5', 'gxf5', 'Nxf5', 'Ng8', 'Re3', 'Qf6', 'Rg3', 'Bh8', 'd5', 'Nf8', 'Rxg8', 'Kxg8', 'Nxh6+', 'Kh7', 'Bg5', 'Qg6', 'Qe3', 'Bg7', 'Nf5', 'Bc8', 'Nh4', 'Qh5', 'g4', 'Bxg4', 'hxg4', 'Qxg4+', 'Kf1', 'f6', 'Nf3', 'fxg5', 'Nxg5+', 'Kg8', 'Bd1', 'Qf4', 'Bh5', 'Qxe3', 'Bf7+', 'Kh8', 'fxe3', 'Re7', 'Ke2', 'Bh6', 'Rh1', 'Kg7', 'Ne6+', 'Nxe6', 'dxe6', 'Rh8', 'Rg1+', 'Kf8', 'Rd1', 'Rxf7', 'exf7', 'Kxf7', 'Rd5', 'Rb8', 'Kd3', 'Ke6', 'Ke2', 'c6', 'Rd3', 'd5', 'exd5+', 'cxd5', 'Rd1', 'Rd8', 'e4', 'd4', 'cxd4', 'Rxd4']\n"
          ]
        },
        {
          "output_type": "execute_result",
          "data": {
            "text/plain": [
              "'\\nfor move in move_list:\\n    print(move)\\n'"
            ],
            "application/vnd.google.colaboratory.intrinsic+json": {
              "type": "string"
            }
          },
          "metadata": {},
          "execution_count": 27
        }
      ]
    },
    {
      "cell_type": "code",
      "execution_count": 2,
      "metadata": {
        "colab": {
          "base_uri": "https://localhost:8080/"
        },
        "id": "Abq1MOz7Og4U",
        "outputId": "f5794960-f63f-4a91-a144-7369e561e741",
        "collapsed": true
      },
      "outputs": [
        {
          "output_type": "stream",
          "name": "stdout",
          "text": [
            "1. e4 e5 2. Nf3 Nc6 3. Bb5 a6 4. Ba4 Nf6 5. O-O Be7 6. Re1 b5 7. Bb3 d6 8. c3 O-O 9. h3 Nb8 10. d4 Nbd7 11. Nbd2 Bb7 12. Bc2 Re8 13. Nf1 Bf8 14. Ng3 a5 15. Bg5 h6 16. Bd2 a4 17. a3 g6 18. Qc1 Kh7 19. Nh4 Bg7 20. Nhf5 gxf5 21. Nxf5 Ng8 22. Re3 Qf6 23. Rg3 Bh8 24. d5 Nf8 25. Rxg8 Kxg8 26. Nxh6+ Kh7 27. Bg5 Qg6 28. Qe3 Bg7 29. Nf5 Bc8 30. Nh4 Qh5 31. g4 Bxg4 32. hxg4 Qxg4+ 33. Kf1 f6 34. Nf3 fxg5 35. Nxg5+ Kg8 36. Bd1 Qf4 37. Bh5 Qxe3 38. Bf7+ Kh8 39. fxe3 Re7 40. Ke2 Bh6 41. Rh1 Kg7 42. Ne6+ Nxe6 43. dxe6 Rh8 44. Rg1+ Kf8 45. Rd1 Rxf7 46. exf7 Kxf7 47. Rd5 Rb8 48. Kd3 Ke6 49. Ke2 c6 50. Rd3 d5 51. exd5+ cxd5 52. Rd1 Rd8 53. e4 d4 54. cxd4 Rxd4\n",
            "\n",
            "\n",
            "\n"
          ]
        }
      ],
      "source": [
        "import requests\n",
        "#requests package can be used to get API\n",
        "\n",
        "#Grabs PGN (game notation) from lichess API\n",
        "#api_url = 'https://lichess.org/game/export/[game ID]?action'\n",
        "#Add ?action=[action]... to specify request, & to include multiple requests\n",
        "api_url = 'https://lichess.org/game/export/qzsgQdLe?action&tags=false&clocks=false&evals=false'\n",
        "response = requests.get(api_url)\n",
        "\n",
        "# If the responses status code is 200 (success)\n",
        "if response.status_code == 200:\n",
        "    #data = response.json()\n",
        "    print(response.text)\n",
        "    #prints the game notation"
      ]
    },
    {
      "cell_type": "markdown",
      "source": [
        "## **Getting the evaluation from chessdb using FEN**"
      ],
      "metadata": {
        "id": "RfJAdZejW3JM"
      }
    },
    {
      "cell_type": "code",
      "source": [
        "import requests\n",
        "\n",
        "api_url = 'http://www.chessdb.cn/cdb.php?action=queryall&board=rnbqkbnr/pppppppp/8/8/8/8/PPPPPPPP/RNBQKBNR w KQkq - 0 1&json=true'\n",
        "response = requests.get(api_url)\n",
        "\n",
        "if response.status_code == 200:\n",
        "    data = response.json()\n",
        "else:\n",
        "    print('API error')\n",
        "\n",
        "if 'moves' in data:\n",
        "        moves = data['moves']\n",
        "        print('Suggested Moves and Evaluations:')\n",
        "        for move in moves:\n",
        "            print(f\"Move: {move.get('san')}, Centipawn evaluation: {move.get('score')}, Expected score: {round(float(move.get('winrate'))*0.01,4)}\")"
      ],
      "metadata": {
        "colab": {
          "base_uri": "https://localhost:8080/"
        },
        "id": "wmpmOhpOW01i",
        "outputId": "b09c6b25-ce65-40ee-c620-f1fafca75643"
      },
      "execution_count": 19,
      "outputs": [
        {
          "output_type": "stream",
          "name": "stdout",
          "text": [
            "Suggested Moves and Evaluations:\n",
            "Move: d4, Centipawn evaluation: 1, Expected score: 0.5008\n",
            "Move: e4, Centipawn evaluation: 1, Expected score: 0.5008\n",
            "Move: Nf3, Centipawn evaluation: 1, Expected score: 0.5008\n",
            "Move: c4, Centipawn evaluation: 1, Expected score: 0.5008\n",
            "Move: a3, Centipawn evaluation: 0, Expected score: 0.5\n",
            "Move: g3, Centipawn evaluation: 0, Expected score: 0.5\n",
            "Move: h3, Centipawn evaluation: 0, Expected score: 0.5\n",
            "Move: e3, Centipawn evaluation: 0, Expected score: 0.5\n",
            "Move: c3, Centipawn evaluation: 0, Expected score: 0.5\n",
            "Move: b3, Centipawn evaluation: 0, Expected score: 0.5\n",
            "Move: d3, Centipawn evaluation: 0, Expected score: 0.5\n",
            "Move: Nc3, Centipawn evaluation: -1, Expected score: 0.4992\n",
            "Move: h4, Centipawn evaluation: -1, Expected score: 0.4992\n",
            "Move: b4, Centipawn evaluation: -1, Expected score: 0.4992\n",
            "Move: a4, Centipawn evaluation: -1, Expected score: 0.4992\n",
            "Move: f4, Centipawn evaluation: -1, Expected score: 0.4992\n",
            "Move: Na3, Centipawn evaluation: -7, Expected score: 0.4947\n",
            "Move: Nh3, Centipawn evaluation: -7, Expected score: 0.4947\n",
            "Move: f3, Centipawn evaluation: -51, Expected score: 0.4614\n",
            "Move: g4, Centipawn evaluation: -177, Expected score: 0.369\n"
          ]
        }
      ]
    },
    {
      "cell_type": "code",
      "source": [
        "#api_url = 'http://www.chessdb.cn/cdb.php?action=[ACTION]{&[OPTION1]=[VALUE1]...&[OPTIONn]=[VALUEn]}'\n",
        "#api_url = 'http://www.chessdb.cn/cdb.php?action=queryscore&board=rnbqkbnr/pppppppp/8/8/8/8/PPPPPPPP/RNBQKBNR w KQkq - 0 1&json=true'\n",
        "api_url = 'http://www.chessdb.cn/cdb.php?action=queryall&board=rnbqkbnr/pppppppp/8/8/8/8/PPPPPPPP/RNBQKBNR w KQkq - 0 1&json=true'\n",
        "#api_url = 'http://www.chessdb.cn/cdb.php?action=querybest&board=rnbqkbnr/pppppppp/8/8/8/8/PPPPPPPP/RNBQKBNR w KQkq - 0 1&json=true'\n",
        "response = requests.get(api_url)\n",
        "\n",
        "# If the responses status code is 200 (success)\n",
        "if response.status_code == 200:\n",
        "    data = response.json()\n",
        "    print(data['moves'])\n",
        "else:\n",
        "    print('API error')"
      ],
      "metadata": {
        "colab": {
          "base_uri": "https://localhost:8080/"
        },
        "id": "bB7FRp3ZOkob",
        "outputId": "06706d4c-bc9e-416c-d7c4-1a1ce50e632f",
        "collapsed": true
      },
      "execution_count": 15,
      "outputs": [
        {
          "output_type": "stream",
          "name": "stdout",
          "text": [
            "[{'uci': 'd2d4', 'san': 'd4', 'score': 1, 'rank': 2, 'note': '! (20-04)', 'winrate': '50.08'}, {'uci': 'e2e4', 'san': 'e4', 'score': 1, 'rank': 2, 'note': '! (20-04)', 'winrate': '50.08'}, {'uci': 'g1f3', 'san': 'Nf3', 'score': 1, 'rank': 2, 'note': '! (20-05)', 'winrate': '50.08'}, {'uci': 'c2c4', 'san': 'c4', 'score': 1, 'rank': 2, 'note': '! (20-06)', 'winrate': '50.08'}, {'uci': 'a2a3', 'san': 'a3', 'score': 0, 'rank': 2, 'note': '! (20-09)', 'winrate': '50.00'}, {'uci': 'g2g3', 'san': 'g3', 'score': 0, 'rank': 2, 'note': '! (20-09)', 'winrate': '50.00'}, {'uci': 'h2h3', 'san': 'h3', 'score': 0, 'rank': 2, 'note': '! (20-11)', 'winrate': '50.00'}, {'uci': 'e2e3', 'san': 'e3', 'score': 0, 'rank': 2, 'note': '! (20-11)', 'winrate': '50.00'}, {'uci': 'c2c3', 'san': 'c3', 'score': 0, 'rank': 2, 'note': '! (20-11)', 'winrate': '50.00'}, {'uci': 'b2b3', 'san': 'b3', 'score': 0, 'rank': 2, 'note': '! (20-13)', 'winrate': '50.00'}, {'uci': 'd2d3', 'san': 'd3', 'score': 0, 'rank': 2, 'note': '! (20-13)', 'winrate': '50.00'}, {'uci': 'b1c3', 'san': 'Nc3', 'score': -1, 'rank': 2, 'note': '! (20-07)', 'winrate': '49.92'}, {'uci': 'h2h4', 'san': 'h4', 'score': -1, 'rank': 2, 'note': '! (20-11)', 'winrate': '49.92'}, {'uci': 'b2b4', 'san': 'b4', 'score': -1, 'rank': 2, 'note': '! (20-12)', 'winrate': '49.92'}, {'uci': 'a2a4', 'san': 'a4', 'score': -1, 'rank': 2, 'note': '! (20-12)', 'winrate': '49.92'}, {'uci': 'f2f4', 'san': 'f4', 'score': -1, 'rank': 2, 'note': '! (20-15)', 'winrate': '49.92'}, {'uci': 'b1a3', 'san': 'Na3', 'score': -7, 'rank': 0, 'note': '? (20-09)', 'winrate': '49.47'}, {'uci': 'g1h3', 'san': 'Nh3', 'score': -7, 'rank': 0, 'note': '? (20-11)', 'winrate': '49.47'}, {'uci': 'f2f3', 'san': 'f3', 'score': -51, 'rank': 0, 'note': '? (20-01)', 'winrate': '46.14'}, {'uci': 'g2g4', 'san': 'g4', 'score': -177, 'rank': 0, 'note': '? (20-01)', 'winrate': '36.90'}]\n"
          ]
        }
      ]
    }
  ]
}
